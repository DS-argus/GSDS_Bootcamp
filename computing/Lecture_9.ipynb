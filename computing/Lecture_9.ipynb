{
 "cells": [
  {
   "attachments": {},
   "cell_type": "markdown",
   "metadata": {},
   "source": [
    "# Linear Search"
   ]
  },
  {
   "cell_type": "code",
   "execution_count": 8,
   "metadata": {},
   "outputs": [],
   "source": [
    "def LS_while(L: list, value: any) -> int:\n",
    "    i = 0\n",
    "\n",
    "    while True:\n",
    "        if i >= len(L):\n",
    "            return \"Not exist\"\n",
    "        \n",
    "        if L[i] == value:\n",
    "            return i\n",
    "        \n",
    "        i += 1"
   ]
  },
  {
   "cell_type": "code",
   "execution_count": 19,
   "metadata": {},
   "outputs": [],
   "source": [
    "def LS_sentinel(L: list, value: any) -> int:\n",
    "    L.append(value)         # add sentinel to original List\n",
    "\n",
    "    i = 0\n",
    "\n",
    "    while L[i] != value:\n",
    "        i += 1\n",
    "    \n",
    "    L.pop()                 # back to original List\n",
    "\n",
    "    if i == len(L):\n",
    "        return \"Not exist\"\n",
    "    else:\n",
    "        return i\n",
    "\n"
   ]
  },
  {
   "cell_type": "code",
   "execution_count": 20,
   "metadata": {},
   "outputs": [],
   "source": [
    "def LS_forLoop(L: list, value: any) -> int:\n",
    "    for i in range(len(L)):\n",
    "        if L[i] == value:\n",
    "            return i\n",
    "        \n",
    "    return \"Not exist\""
   ]
  },
  {
   "cell_type": "code",
   "execution_count": 22,
   "metadata": {},
   "outputs": [
    {
     "name": "stdout",
     "output_type": "stream",
     "text": [
      "7\n",
      "7\n",
      "7\n"
     ]
    }
   ],
   "source": [
    "sample = [4, 1, 7, 6, 4, 9, 7, 10]\n",
    "target = 10\n",
    "print(LS_while(sample, target))\n",
    "print(LS_sentinel(sample, target))\n",
    "print(LS_forLoop(sample, target))"
   ]
  },
  {
   "attachments": {},
   "cell_type": "markdown",
   "metadata": {},
   "source": [
    "# Time complexity of LS"
   ]
  },
  {
   "cell_type": "code",
   "execution_count": 33,
   "metadata": {},
   "outputs": [],
   "source": [
    "import time\n",
    "\n",
    "test_case = list(range(1, 100000))\n",
    "targets = [1, 50000, 99999]"
   ]
  },
  {
   "cell_type": "code",
   "execution_count": 34,
   "metadata": {},
   "outputs": [
    {
     "name": "stdout",
     "output_type": "stream",
     "text": [
      "0.0008750066626816988\n",
      "3.216666984371841\n",
      "6.691374990623444\n"
     ]
    }
   ],
   "source": [
    "# Test LS_while\n",
    "for target in targets:\n",
    "    t_start = time.perf_counter()\n",
    "    LS_while(test_case, target)\n",
    "    t_end = time.perf_counter()\n",
    "    print((t_end - t_start)*1000)"
   ]
  },
  {
   "cell_type": "code",
   "execution_count": 35,
   "metadata": {},
   "outputs": [
    {
     "name": "stdout",
     "output_type": "stream",
     "text": [
      "0.0016250123735517263\n",
      "1.8325830169487745\n",
      "2.364041982218623\n"
     ]
    }
   ],
   "source": [
    "# Test LS_sentinel\n",
    "for target in targets:\n",
    "    t_start = time.perf_counter()\n",
    "    LS_sentinel(test_case, target)\n",
    "    t_end = time.perf_counter()\n",
    "    print((t_end - t_start)*1000)"
   ]
  },
  {
   "cell_type": "code",
   "execution_count": 36,
   "metadata": {},
   "outputs": [
    {
     "name": "stdout",
     "output_type": "stream",
     "text": [
      "0.0012919772416353226\n",
      "0.8964590087998658\n",
      "1.7998330004047602\n"
     ]
    }
   ],
   "source": [
    "# Test LS_forLoop\n",
    "for target in targets:\n",
    "    t_start = time.perf_counter()\n",
    "    LS_forLoop(test_case, target)\n",
    "    t_end = time.perf_counter()\n",
    "    print((t_end - t_start)*1000)"
   ]
  },
  {
   "cell_type": "code",
   "execution_count": 38,
   "metadata": {},
   "outputs": [
    {
     "name": "stdout",
     "output_type": "stream",
     "text": [
      "0.0017500133253633976\n",
      "0.4092500021215528\n",
      "0.9406669996678829\n"
     ]
    }
   ],
   "source": [
    "# Test List.index\n",
    "for target in targets:\n",
    "    t_start = time.perf_counter()\n",
    "    test_case.index(target)\n",
    "    t_end = time.perf_counter()\n",
    "    print((t_end - t_start)*1000)"
   ]
  },
  {
   "attachments": {},
   "cell_type": "markdown",
   "metadata": {},
   "source": [
    "# Binary Search (sorted list)\n",
    "\n",
    "#### 만약 중복 있으면 첫번째 index return\n",
    "\n",
    "#### C로 구현된 list.index 보다 빠르지만 sorting이 더 오래걸림"
   ]
  },
  {
   "cell_type": "code",
   "execution_count": 49,
   "metadata": {},
   "outputs": [],
   "source": [
    "def BS(L: list, value: any) -> int:\n",
    "    start = 0\n",
    "    end = len(L) - 1\n",
    "\n",
    "    while True:\n",
    "\n",
    "        if (start == end):\n",
    "            if (L[start] != value):\n",
    "                return \"Not exist\"\n",
    "            else:\n",
    "                return start\n",
    "\n",
    "        mid = (start + end) // 2\n",
    "\n",
    "        \n",
    "        if L[mid] >= value:\n",
    "            end = mid - 1\n",
    "\n",
    "        else:\n",
    "            start = mid + 1\n",
    "\n"
   ]
  },
  {
   "cell_type": "code",
   "execution_count": 50,
   "metadata": {},
   "outputs": [],
   "source": [
    "def binary_search(L: list, value: any) -> int:\n",
    "    start, end = 0, len(L) - 1\n",
    "    while start != end + 1:\n",
    "        mid = (start + end) // 2\n",
    "\n",
    "        if L[mid] < value:\n",
    "            start = mid + 1\n",
    "        else:\n",
    "            end = mid - 1\n",
    "        \n",
    "    if start < len(L) and L[start] == value:\n",
    "        return start\n",
    "    else:\n",
    "        return 'Not exist'\n",
    "        \n"
   ]
  },
  {
   "cell_type": "code",
   "execution_count": 54,
   "metadata": {},
   "outputs": [
    {
     "name": "stdout",
     "output_type": "stream",
     "text": [
      "7\n",
      "7\n"
     ]
    }
   ],
   "source": [
    "sample_BS = [-7, -6, -2, 3, 4, 5, 7, 9, 9, 9, 50, 100]\n",
    "target_BS = 9\n",
    "print(BS(sample_BS, target_BS))\n",
    "print(binary_search(sample_BS, target_BS))"
   ]
  },
  {
   "cell_type": "code",
   "execution_count": null,
   "metadata": {},
   "outputs": [],
   "source": []
  }
 ],
 "metadata": {
  "kernelspec": {
   "display_name": ".venv",
   "language": "python",
   "name": "python3"
  },
  "language_info": {
   "codemirror_mode": {
    "name": "ipython",
    "version": 3
   },
   "file_extension": ".py",
   "mimetype": "text/x-python",
   "name": "python",
   "nbconvert_exporter": "python",
   "pygments_lexer": "ipython3",
   "version": "3.11.1"
  },
  "orig_nbformat": 4,
  "vscode": {
   "interpreter": {
    "hash": "654460b4391aa26e0a6aaee080977b7ecb44bff51eda853c88eda78f5d90b161"
   }
  }
 },
 "nbformat": 4,
 "nbformat_minor": 2
}
