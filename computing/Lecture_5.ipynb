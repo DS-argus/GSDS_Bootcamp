{
 "cells": [
  {
   "attachments": {},
   "cell_type": "markdown",
   "metadata": {},
   "source": [
    "# List Typing Hint"
   ]
  },
  {
   "cell_type": "code",
   "execution_count": 2,
   "metadata": {},
   "outputs": [],
   "source": [
    "def average(L: list[float]) -> float:\n",
    "    return sum(L) / len(L)"
   ]
  },
  {
   "cell_type": "code",
   "execution_count": 8,
   "metadata": {},
   "outputs": [
    {
     "data": {
      "text/plain": [
       "2.9"
      ]
     },
     "execution_count": 8,
     "metadata": {},
     "output_type": "execute_result"
    }
   ],
   "source": [
    "sample = [1.3, 2.4, 1.5, 6.4]\n",
    "result = average(sample)\n",
    "round(result, 4)"
   ]
  },
  {
   "attachments": {},
   "cell_type": "markdown",
   "metadata": {},
   "source": [
    "# Alias vs Copy"
   ]
  },
  {
   "cell_type": "code",
   "execution_count": 9,
   "metadata": {},
   "outputs": [
    {
     "data": {
      "text/plain": [
       "['inhoe', 'yesong', 'jaewook', 'yeha', 'suun', 'nayeon']"
      ]
     },
     "execution_count": 9,
     "metadata": {},
     "output_type": "execute_result"
    }
   ],
   "source": [
    "students = ['inhoe', 'yesong', 'jaewook', 'yeha', 'suun', 'nayeon']\n",
    "students"
   ]
  },
  {
   "cell_type": "code",
   "execution_count": 10,
   "metadata": {},
   "outputs": [],
   "source": [
    "students_copy = students[:]\n",
    "students_alias = students"
   ]
  },
  {
   "cell_type": "code",
   "execution_count": 13,
   "metadata": {},
   "outputs": [
    {
     "name": "stdout",
     "output_type": "stream",
     "text": [
      "students : ['inhoe', 'yesong', 'jaewook', 'yeha', 'suun', 'nayeon']\n",
      "students_copy : ['inhoe', 'yesong', 'jaewook', 'yeha', 'suun', 'nayeon']\n",
      "students_alias : ['inhoe', 'yesong', 'jaewook', 'yeha', 'suun', 'nayeon']\n"
     ]
    }
   ],
   "source": [
    "print(f\"students : {students}\")\n",
    "print(f\"students_copy : {students_copy}\")\n",
    "print(f\"students_alias : {students_alias}\")"
   ]
  },
  {
   "cell_type": "code",
   "execution_count": 14,
   "metadata": {},
   "outputs": [
    {
     "name": "stdout",
     "output_type": "stream",
     "text": [
      "students : ['inhoe', 'yesong', 'jaewook', 'yeha', 'suun', 'nayeon']\n",
      "students_copy : ['inhoe', 'yesong', 'jaewook', 'yeha', 'suun']\n",
      "students_alias : ['inhoe', 'yesong', 'jaewook', 'yeha', 'suun', 'nayeon']\n"
     ]
    }
   ],
   "source": [
    "del students_copy[-1]\n",
    "print(f\"students : {students}\")\n",
    "print(f\"students_copy : {students_copy}\")\n",
    "print(f\"students_alias : {students_alias}\")"
   ]
  },
  {
   "cell_type": "code",
   "execution_count": 15,
   "metadata": {},
   "outputs": [
    {
     "name": "stdout",
     "output_type": "stream",
     "text": [
      "students : ['inhoe', 'yesong', 'jaewook', 'yeha', 'suun']\n",
      "students_copy : ['inhoe', 'yesong', 'jaewook', 'yeha', 'suun']\n",
      "students_alias : ['inhoe', 'yesong', 'jaewook', 'yeha', 'suun']\n"
     ]
    }
   ],
   "source": [
    "del students_alias[-1]\n",
    "print(f\"students : {students}\")\n",
    "print(f\"students_copy : {students_copy}\")\n",
    "print(f\"students_alias : {students_alias}\")"
   ]
  },
  {
   "attachments": {},
   "cell_type": "markdown",
   "metadata": {},
   "source": [
    "# For Loop"
   ]
  },
  {
   "cell_type": "code",
   "execution_count": 16,
   "metadata": {},
   "outputs": [
    {
     "name": "stdout",
     "output_type": "stream",
     "text": [
      "GSDS offers Math/Stat course in Spring 2023\n",
      "GSDS offers CFDS course in Spring 2023\n",
      "GSDS offers ML/DL 1 course in Spring 2023\n",
      "GSDS offers Computing 1 course in Spring 2023\n",
      "GSDS offers Big Data 1 course in Spring 2023\n"
     ]
    }
   ],
   "source": [
    "gsds_courses = ['Math/Stat', 'CFDS', 'ML/DL 1', 'Computing 1', 'Big Data 1']\n",
    "\n",
    "for course in gsds_courses:\n",
    "    print(f\"GSDS offers {course} course in Spring 2023\")\n",
    "\n"
   ]
  },
  {
   "cell_type": "code",
   "execution_count": 21,
   "metadata": {},
   "outputs": [
    {
     "data": {
      "text/plain": [
       "[10, 11, 12, 13, 14, 15]"
      ]
     },
     "execution_count": 21,
     "metadata": {},
     "output_type": "execute_result"
    }
   ],
   "source": [
    "values = list(range(10, 16))\n",
    "values"
   ]
  },
  {
   "cell_type": "code",
   "execution_count": 23,
   "metadata": {},
   "outputs": [
    {
     "name": "stdout",
     "output_type": "stream",
     "text": [
      "20\n",
      "22\n",
      "24\n",
      "26\n",
      "28\n",
      "30\n",
      "[10, 11, 12, 13, 14, 15]\n"
     ]
    }
   ],
   "source": [
    "for value in values:\n",
    "    value = value * 2\n",
    "    print(value)\n",
    "print(values)"
   ]
  },
  {
   "cell_type": "code",
   "execution_count": 24,
   "metadata": {},
   "outputs": [
    {
     "name": "stdout",
     "output_type": "stream",
     "text": [
      "[20, 22, 24, 26, 28, 30]\n"
     ]
    }
   ],
   "source": [
    "for i in range(len(values)):\n",
    "    values[i] = values[i] * 2\n",
    "\n",
    "print(values)"
   ]
  },
  {
   "cell_type": "code",
   "execution_count": 25,
   "metadata": {},
   "outputs": [
    {
     "data": {
      "text/plain": [
       "['inhoe', 'yesong', 'jaewook', 'yeha', 'suun']"
      ]
     },
     "execution_count": 25,
     "metadata": {},
     "output_type": "execute_result"
    }
   ],
   "source": [
    "students"
   ]
  },
  {
   "cell_type": "code",
   "execution_count": 26,
   "metadata": {},
   "outputs": [],
   "source": [
    "students_id = ['2021-11', '2021-12', '2021-13', '2021-14', '2021-15']\n"
   ]
  },
  {
   "cell_type": "code",
   "execution_count": 29,
   "metadata": {},
   "outputs": [
    {
     "name": "stdout",
     "output_type": "stream",
     "text": [
      "1-th student taking this course is inhoe with id 2021-11\n",
      "2-th student taking this course is yesong with id 2021-12\n",
      "3-th student taking this course is jaewook with id 2021-13\n",
      "4-th student taking this course is yeha with id 2021-14\n",
      "5-th student taking this course is suun with id 2021-15\n"
     ]
    }
   ],
   "source": [
    "## Using enumerate and zip together in For Loop\n",
    "for idx, (name, id) in enumerate(zip(students, students_id)):\n",
    "    print(f\"{idx+1}-th student taking this course is {name} with id {id}\")\n"
   ]
  },
  {
   "attachments": {},
   "cell_type": "markdown",
   "metadata": {},
   "source": [
    "# Controlling Loops"
   ]
  },
  {
   "cell_type": "code",
   "execution_count": 31,
   "metadata": {},
   "outputs": [
    {
     "name": "stdout",
     "output_type": "stream",
     "text": [
      "7\n"
     ]
    }
   ],
   "source": [
    "first_upper_idex = -1\n",
    "randomString = \"soimoijSJosijoijAAsBsl\"\n",
    "\n",
    "for i in range(len(randomString)):\n",
    "    if randomString[i].islower():\n",
    "        continue\n",
    "    print(i)\n",
    "    break\n"
   ]
  },
  {
   "cell_type": "code",
   "execution_count": 32,
   "metadata": {},
   "outputs": [
    {
     "data": {
      "text/plain": [
       "[5, 4, 3, 2, 1]"
      ]
     },
     "execution_count": 32,
     "metadata": {},
     "output_type": "execute_result"
    }
   ],
   "source": [
    "a = [1, 2, 3, 4, 5]\n",
    "a[::-1]\n"
   ]
  },
  {
   "attachments": {},
   "cell_type": "markdown",
   "metadata": {},
   "source": [
    "# Problem\n",
    "    "
   ]
  },
  {
   "cell_type": "code",
   "execution_count": 15,
   "metadata": {},
   "outputs": [],
   "source": [
    "def print_ID(A: list[list[int]]) -> None:\n",
    "    print(hex(id(A)))\n",
    "    for i in range(len(A)):\n",
    "        print(\"\\t\", hex(id(A[i])))\n",
    "    return"
   ]
  },
  {
   "cell_type": "code",
   "execution_count": 16,
   "metadata": {},
   "outputs": [],
   "source": [
    "import copy\n",
    "def flipAndInvertImage(A: list[list[int]]) -> list[list[int]]:\n",
    "\n",
    "    # B = A\n",
    "    # B = copy.deepcopy(A)\n",
    "    B = A[:]\n",
    "\n",
    "    for i in range(len(B)):\n",
    "        B[i] = [1-j for j in B[i][::-1]]\n",
    "\n",
    "    return B\n",
    "\n"
   ]
  },
  {
   "cell_type": "code",
   "execution_count": 17,
   "metadata": {},
   "outputs": [],
   "source": [
    "input_1 = [[1, 1, 0], [1, 0, 1], [0, 0, 0]]\n",
    "input_2 = [[1, 1, 0, 0], [1, 0, 0, 1], [0, 1, 1, 1], [1, 0, 1, 0]]\n",
    "\n",
    "result_1 = flipAndInvertImage(input_1)\n",
    "result_2 = flipAndInvertImage(input_2)"
   ]
  },
  {
   "cell_type": "code",
   "execution_count": 18,
   "metadata": {},
   "outputs": [
    {
     "name": "stdout",
     "output_type": "stream",
     "text": [
      "[[1, 1, 0], [1, 0, 1], [0, 0, 0]]\n",
      "0x106327900\n",
      "\t 0x106301240\n",
      "\t 0x10634bbc0\n",
      "\t 0x1061f8380\n",
      "[[1, 1, 0, 0], [1, 0, 0, 1], [0, 1, 1, 1], [1, 0, 1, 0]]\n",
      "0x106324740\n",
      "\t 0x106302000\n",
      "\t 0x106326780\n",
      "\t 0x106327340\n",
      "\t 0x106324100\n",
      "----------------------------\n",
      "[[1, 0, 0], [0, 1, 0], [1, 1, 1]]\n",
      "0x1061a3280\n",
      "\t 0x106326d80\n",
      "\t 0x1063264c0\n",
      "\t 0x106315f80\n",
      "[[1, 1, 0, 0], [0, 1, 1, 0], [0, 0, 0, 1], [1, 0, 1, 0]]\n",
      "0x10634a240\n",
      "\t 0x1061e1480\n",
      "\t 0x106327c80\n",
      "\t 0x106324400\n",
      "\t 0x106316880\n"
     ]
    }
   ],
   "source": [
    "print(input_1)\n",
    "print_ID(input_1)\n",
    "\n",
    "print(input_2)\n",
    "print_ID(input_2)\n",
    "\n",
    "print(\"----------------------------\")\n",
    "\n",
    "print(result_1)\n",
    "print_ID(result_1)\n",
    "\n",
    "print(result_2)\n",
    "print_ID(result_2)"
   ]
  },
  {
   "cell_type": "code",
   "execution_count": 20,
   "metadata": {},
   "outputs": [
    {
     "name": "stdout",
     "output_type": "stream",
     "text": [
      "[[1, 1, 0], [1, 0, 1], [0, 0, 0]]\n",
      "[[1, 0, 0], [0, 1, 0, 5], [1, 1, 1]]\n"
     ]
    }
   ],
   "source": [
    "result_1[1].append(5)\n",
    "\n",
    "print(input_1)\n",
    "print(result_1)"
   ]
  },
  {
   "cell_type": "code",
   "execution_count": 27,
   "metadata": {},
   "outputs": [
    {
     "name": "stdout",
     "output_type": "stream",
     "text": [
      "0x106349c80\n",
      "0x1063151c0\n"
     ]
    }
   ],
   "source": [
    "a = [1, 2, 3, 4, 5]\n",
    "print(hex(id(a)))\n",
    "print(hex(id(a[::-1])))"
   ]
  },
  {
   "cell_type": "code",
   "execution_count": null,
   "metadata": {},
   "outputs": [],
   "source": []
  }
 ],
 "metadata": {
  "kernelspec": {
   "display_name": ".venv",
   "language": "python",
   "name": "python3"
  },
  "language_info": {
   "codemirror_mode": {
    "name": "ipython",
    "version": 3
   },
   "file_extension": ".py",
   "mimetype": "text/x-python",
   "name": "python",
   "nbconvert_exporter": "python",
   "pygments_lexer": "ipython3",
   "version": "3.11.1"
  },
  "orig_nbformat": 4,
  "vscode": {
   "interpreter": {
    "hash": "654460b4391aa26e0a6aaee080977b7ecb44bff51eda853c88eda78f5d90b161"
   }
  }
 },
 "nbformat": 4,
 "nbformat_minor": 2
}
