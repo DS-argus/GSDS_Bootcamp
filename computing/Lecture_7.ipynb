{
 "cells": [
  {
   "cell_type": "code",
   "execution_count": 1,
   "metadata": {},
   "outputs": [
    {
     "name": "stdout",
     "output_type": "stream",
     "text": [
      "First line of text\n",
      "Second line of text\n",
      "Third line of text\n"
     ]
    }
   ],
   "source": [
    "file = open(\"file_example.txt\", \"r\")\n",
    "contents = file.read()\n",
    "file.close()\n",
    "print(contents)"
   ]
  },
  {
   "cell_type": "code",
   "execution_count": 2,
   "metadata": {},
   "outputs": [
    {
     "name": "stdout",
     "output_type": "stream",
     "text": [
      "First line of text\n",
      "Second line of text\n",
      "Third line of text\n"
     ]
    }
   ],
   "source": [
    "with open('file_example.txt', 'r') as file:\n",
    "    contents = file.read()\n",
    "print(contents)"
   ]
  },
  {
   "cell_type": "code",
   "execution_count": 10,
   "metadata": {},
   "outputs": [
    {
     "data": {
      "text/plain": [
       "'/Users/argus/Programming'"
      ]
     },
     "execution_count": 10,
     "metadata": {},
     "output_type": "execute_result"
    }
   ],
   "source": [
    "import os\n",
    "os.getcwd()"
   ]
  },
  {
   "cell_type": "code",
   "execution_count": 16,
   "metadata": {},
   "outputs": [
    {
     "data": {
      "text/plain": [
       "'/Users/argus/Programming/GSDS_Bootcamp/computing'"
      ]
     },
     "execution_count": 16,
     "metadata": {},
     "output_type": "execute_result"
    }
   ],
   "source": [
    "os.getcwd()"
   ]
  },
  {
   "cell_type": "code",
   "execution_count": 21,
   "metadata": {},
   "outputs": [
    {
     "name": "stdout",
     "output_type": "stream",
     "text": [
      "First line of text\n",
      "\n",
      "Second line of text\n",
      "\n",
      "Third line of text\n"
     ]
    }
   ],
   "source": [
    "with open('file_example.txt', 'r') as file:\n",
    "    for line in file:\n",
    "        print(line)"
   ]
  },
  {
   "cell_type": "code",
   "execution_count": 22,
   "metadata": {},
   "outputs": [
    {
     "name": "stdout",
     "output_type": "stream",
     "text": [
      "Coloured fox fur production, HOPEDALE, Labrador,, 1834-1925\n",
      "#Source: C. Elton (1942) \"Voles, Mice and Lemmings\", Oxford Univ. Press\n",
      "#Table 17, p.265--266\n",
      "22\n",
      "29\n",
      "2\n",
      "16\n",
      "12\n",
      "35\n",
      "8\n",
      "83\n",
      "166\n",
      "62\n",
      "77\n",
      "42\n",
      "54\n",
      "56\n",
      "5\n",
      "9\n",
      "78\n",
      "151\n",
      "27\n",
      "14\n",
      "71\n",
      "261\n",
      "22\n",
      "3\n",
      "16\n",
      "70\n",
      "7\n",
      "2\n",
      "26\n",
      "27\n",
      "35\n",
      "9\n",
      "11\n",
      "73\n",
      "39\n",
      "22\n",
      "41\n",
      "31\n",
      "60\n",
      "7\n",
      "28\n",
      "43\n",
      "17\n",
      "26\n",
      "35\n",
      "60\n",
      "75\n",
      "18\n",
      "58\n",
      "38\n",
      "28\n",
      "26\n",
      "29\n",
      "43\n",
      "16\n",
      "40\n",
      "25\n",
      "28\n",
      "12\n",
      "22\n",
      "13\n",
      "52\n",
      "90\n",
      "103\n",
      "15\n",
      "26\n",
      "29\n",
      "102\n",
      "31\n",
      "9\n",
      "33\n",
      "90\n",
      "95\n",
      "17\n",
      "35\n",
      "59\n",
      "115\n",
      "12\n",
      "26\n",
      "38\n",
      "202\n",
      "25\n",
      "83\n",
      "92\n",
      "58\n",
      "0\n",
      "19\n",
      "63\n",
      "108\n",
      "25\n",
      "38\n",
      "231\n"
     ]
    }
   ],
   "source": [
    "import urllib.request\n",
    "url = \"https://robjhyndman.com/tsdldata/ecology1/hopedale.dat\"\n",
    "with urllib.request.urlopen(url) as file:\n",
    "    for line in file:\n",
    "        line = line.strip()\n",
    "        line = line.decode(\"utf-8\")\n",
    "        print(line)"
   ]
  },
  {
   "cell_type": "code",
   "execution_count": 23,
   "metadata": {},
   "outputs": [],
   "source": [
    "with open('file_example.txt', 'w') as output_file:\n",
    "    output_file.write(\"Programming for Data Science\")"
   ]
  },
  {
   "cell_type": "code",
   "execution_count": 25,
   "metadata": {},
   "outputs": [],
   "source": [
    "with open('file_example.txt', 'a') as output_file:\n",
    "    output_file.write(\" is fun...?\")"
   ]
  },
  {
   "cell_type": "code",
   "execution_count": 26,
   "metadata": {},
   "outputs": [
    {
     "name": "stdout",
     "output_type": "stream",
     "text": [
      "Programming for Data Science is fun...?\n"
     ]
    }
   ],
   "source": [
    "with open('file_example.txt', 'r') as file:\n",
    "    print(file.read())"
   ]
  },
  {
   "attachments": {},
   "cell_type": "markdown",
   "metadata": {},
   "source": [
    "# Practice FILE IO"
   ]
  },
  {
   "cell_type": "code",
   "execution_count": 27,
   "metadata": {},
   "outputs": [
    {
     "name": "stdout",
     "output_type": "stream",
     "text": [
      "#Annual Number of Lynx Trapped, MacKenzie River, 1821-1934\n",
      "#Original Source: Elton, C. and Nicholson, M. (1942)\n",
      "#\"The ten year cycle in numbers of Canadian lynx\",\n",
      "#J. Animal Ecology, Vol. 11, 215--244.\n",
      "#This is the famous data set which has been listed before in\n",
      "#various publications:\n",
      "#Cambell, M.J. and Walker, A.M. (1977) \"A survey of statistical work on\n",
      "#the MacKenzie River series of annual Canadian lynx trappings for the years\n",
      "#1821-1934 with a new analysis\", J.Roy.Statistical Soc. A 140, 432--436.\n",
      "\n",
      "  269.  321.  585.  871. 1475. 2821. 3928. # 5943. 4950. 2577.  523.   98.  These numbers are not valid\n",
      "  184.  279.  409. 2285. 2685. 3409. 1824.  409.  151.   45.   68.  213.        \n",
      "  546. 1033. 2129. 2536.  957.  361.  377.  225.  360.  731. 1638. 2725.        \n",
      " 2871. 2119.  684.  299.  236.  245.  552. 1623. 3311. 6721. 4245.  687.        \n",
      "#### This is a break line\n",
      "  255.  473.  358.  784. 1594. 1676. 2251. 1426.  756.  299.  201.  229.        \n",
      "  469.  736. 2042. 2811. 4431. 2511.  389. 73.   39.   49.   59.  188. \n",
      "  377. 1292. 4031. 3495.  587.  105.  153.  387.  758. 1307. # 3465. 6991. These numbers are not valid       \n",
      " 6313. 3794. 1836.  345.  382.  808. 1388. 2713. 3800. 3091. 2985. 3790.        \n",
      "  674.   81.   80.  108.  229.  399. 1132. 2432. 3574. 2935. 1537.  529.        \n",
      "  485.  662. 1000. 1590. 2657. 3396.                                      \n"
     ]
    }
   ],
   "source": [
    "with open(\"file_practice.txt\", \"r\") as file:\n",
    "    print(file.read())"
   ]
  },
  {
   "cell_type": "code",
   "execution_count": 55,
   "metadata": {},
   "outputs": [
    {
     "name": "stdout",
     "output_type": "stream",
     "text": [
      "[269, 321, 585, 871, 1475, 2821, 3928, 184, 279, 409, 2285, 2685, 3409, 1824, 409, 151, 45, 68, 213, 546, 1033, 2129, 2536, 957, 361, 377, 225, 360, 731, 1638, 2725, 2871, 2119, 684, 299, 236, 245, 552, 1623, 3311, 6721, 4245, 687, 255, 473, 358, 784, 1594, 1676, 2251, 1426, 756, 299, 201, 229, 469, 736, 2042, 2811, 4431, 2511, 389, 73, 39, 49, 59, 188, 377, 1292, 4031, 3495, 587, 105, 153, 387, 758, 1307, 6313, 3794, 1836, 345, 382, 808, 1388, 2713, 3800, 3091, 2985, 3790, 674, 81, 80, 108, 229, 399, 1132, 2432, 3574, 2935, 1537, 529, 485, 662, 1000, 1590, 2657, 3396]\n",
      "6721\n"
     ]
    }
   ],
   "source": [
    "data_list = []\n",
    "with open(\"file_practice.txt\", \"r\") as file:\n",
    "    for line in file:\n",
    "\n",
    "        if line.startswith(\"#\"):\n",
    "            continue\n",
    "\n",
    "        if \"#\" in line:\n",
    "            line = line.split(\"#\")[0]\n",
    "            \n",
    "        line = line.strip()\n",
    "\n",
    "        line = line.replace(\" \", \"\").strip()\n",
    "        \n",
    "        data = line.split(\".\")[:-1]\n",
    "\n",
    "        data_list += data\n",
    "\n",
    "\n",
    "data_list = list(map(int, data_list))\n",
    "print(data_list)\n",
    "print(max(data_list))"
   ]
  },
  {
   "cell_type": "code",
   "execution_count": 56,
   "metadata": {},
   "outputs": [
    {
     "data": {
      "text/plain": [
       "True"
      ]
     },
     "execution_count": 56,
     "metadata": {},
     "output_type": "execute_result"
    }
   ],
   "source": [
    "x = 1\n",
    "x + 2 == x.__add__(2)"
   ]
  },
  {
   "cell_type": "code",
   "execution_count": 57,
   "metadata": {},
   "outputs": [
    {
     "data": {
      "text/plain": [
       "True"
      ]
     },
     "execution_count": 57,
     "metadata": {},
     "output_type": "execute_result"
    }
   ],
   "source": [
    "isinstance(1, int) and isinstance(1.0, float) and isinstance('kk', str)"
   ]
  },
  {
   "cell_type": "code",
   "execution_count": 58,
   "metadata": {},
   "outputs": [],
   "source": [
    "class complex_number:\n",
    "    def __init__(self, v, i):\n",
    "        self.real_part = v\n",
    "        self.imaginary_part = i\n",
    "\n",
    "    def __add__(self, other):\n",
    "        return complex_number(self.real_part + other.real_part, self.imaginary_part + other.imaginary_part)\n",
    "\n",
    "    def __eq__(self, other):\n",
    "        return self.real_part == other.real_part and self.imaginary_part == other.imaginary_part\n",
    "\n",
    "        "
   ]
  },
  {
   "cell_type": "code",
   "execution_count": 59,
   "metadata": {},
   "outputs": [
    {
     "data": {
      "text/plain": [
       "True"
      ]
     },
     "execution_count": 59,
     "metadata": {},
     "output_type": "execute_result"
    }
   ],
   "source": [
    "complex_number(5, 7) == complex_number(1, 2) + complex_number(4, 5)"
   ]
  },
  {
   "cell_type": "code",
   "execution_count": 60,
   "metadata": {},
   "outputs": [],
   "source": [
    "class foo:\n",
    "    def __init__(self, v, type_) -> None:\n",
    "        self.value = v\n",
    "        self.type_ = type_\n",
    "\n",
    "    def __eq__(self, other) -> bool:\n",
    "        if isinstance(other, foo):\n",
    "            return self.value == other.value\n",
    "        return False\n",
    "\n",
    "        "
   ]
  },
  {
   "cell_type": "code",
   "execution_count": 61,
   "metadata": {},
   "outputs": [
    {
     "data": {
      "text/plain": [
       "True"
      ]
     },
     "execution_count": 61,
     "metadata": {},
     "output_type": "execute_result"
    }
   ],
   "source": [
    "f1, f2 = foo(1, 'type_1'), foo(1, 'type_2')\n",
    "f1 == f2"
   ]
  },
  {
   "cell_type": "code",
   "execution_count": null,
   "metadata": {},
   "outputs": [],
   "source": []
  }
 ],
 "metadata": {
  "kernelspec": {
   "display_name": ".venv",
   "language": "python",
   "name": "python3"
  },
  "language_info": {
   "codemirror_mode": {
    "name": "ipython",
    "version": 3
   },
   "file_extension": ".py",
   "mimetype": "text/x-python",
   "name": "python",
   "nbconvert_exporter": "python",
   "pygments_lexer": "ipython3",
   "version": "3.11.1 (main, Jan 16 2023, 22:27:47) [Clang 14.0.0 (clang-1400.0.29.202)]"
  },
  "orig_nbformat": 4,
  "vscode": {
   "interpreter": {
    "hash": "654460b4391aa26e0a6aaee080977b7ecb44bff51eda853c88eda78f5d90b161"
   }
  }
 },
 "nbformat": 4,
 "nbformat_minor": 2
}
