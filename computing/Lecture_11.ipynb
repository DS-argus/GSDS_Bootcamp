{
 "cells": [
  {
   "attachments": {},
   "cell_type": "markdown",
   "metadata": {},
   "source": [
    "# Recursion"
   ]
  },
  {
   "cell_type": "code",
   "execution_count": 9,
   "metadata": {},
   "outputs": [],
   "source": [
    "def facto(n: int) -> int:\n",
    "    ans = 1\n",
    "    for i in range(1, n + 1):\n",
    "        ans *= i\n",
    "    return ans"
   ]
  },
  {
   "cell_type": "code",
   "execution_count": 16,
   "metadata": {},
   "outputs": [],
   "source": [
    "def facto_recursive(n: int) -> int:\n",
    "    if n == 0:\n",
    "        return 1\n",
    "\n",
    "    return facto_recursive(n-1) * n"
   ]
  },
  {
   "cell_type": "code",
   "execution_count": 19,
   "metadata": {},
   "outputs": [
    {
     "name": "stdout",
     "output_type": "stream",
     "text": [
      "3628800\n",
      "3628800\n"
     ]
    }
   ],
   "source": [
    "n = 10\n",
    "print(facto(n))\n",
    "print(facto_recursive(n))"
   ]
  },
  {
   "cell_type": "code",
   "execution_count": 22,
   "metadata": {},
   "outputs": [],
   "source": [
    "def fibo(n: int) -> int:\n",
    "    if n ==0 or n == 1:\n",
    "        return 1\n",
    "    else:\n",
    "        return fibo(n-1) + fibo(n-2)"
   ]
  },
  {
   "cell_type": "code",
   "execution_count": 26,
   "metadata": {},
   "outputs": [
    {
     "name": "stdout",
     "output_type": "stream",
     "text": [
      "1\n",
      "2\n",
      "3\n",
      "5\n",
      "8\n",
      "13\n",
      "21\n",
      "34\n",
      "55\n",
      "89\n"
     ]
    }
   ],
   "source": [
    "for i in range(10):\n",
    "    print(fibo(i+1))"
   ]
  },
  {
   "attachments": {},
   "cell_type": "markdown",
   "metadata": {},
   "source": [
    "# Merge Sort --> shit...."
   ]
  },
  {
   "cell_type": "code",
   "execution_count": 48,
   "metadata": {},
   "outputs": [],
   "source": [
    "def mergeSort(L: list) -> None:\n",
    "\n",
    "    def merge(L: list, first: int, mid: int, last: int) -> None:\n",
    "        # Initialization\n",
    "        k = first\n",
    "        sub1 = L[first:mid+1]\n",
    "        sub2 = L[mid+1:last+1]\n",
    "        i = j = 0\n",
    "\n",
    "        while i < len(sub1) and j <len(sub2):\n",
    "            if sub1[i] <= sub2[j]:\n",
    "                L[k] = sub1[i]\n",
    "                i += 1\n",
    "            else:\n",
    "                L[k] = sub2[j]\n",
    "                j += 1\n",
    "            \n",
    "            k += 1\n",
    "\n",
    "        if i < len(sub1):\n",
    "            L[k:last+1] = sub1[i:]\n",
    "        else:\n",
    "            L[k:last+1] = sub2[j:]  \n",
    "        \n",
    "        return\n",
    "\n",
    "    def mergeSortHelp(L: list, first: int, last: int) -> None:\n",
    "        if first == last:\n",
    "            return\n",
    "        \n",
    "        # Step 1 : Divide it into two sublists\n",
    "        mid = (first + last) // 2\n",
    "\n",
    "        # Step 2 : Sort the two sublists\n",
    "        mergeSortHelp(L, first, mid)\n",
    "        mergeSortHelp(L, mid+1, last)\n",
    "\n",
    "        # Step 3 : Merge the two sorted sublists\n",
    "        merge(L, first, mid, last)\n",
    "\n",
    "        return\n",
    "    \n",
    "    mergeSortHelp(L, 0, len(L)-1)\n",
    "\n",
    "    return\n",
    "\n",
    "\n"
   ]
  },
  {
   "cell_type": "code",
   "execution_count": 54,
   "metadata": {},
   "outputs": [],
   "source": [
    "sample = [4, 7, 3, 1, -5, 6, 9, 3, 100]"
   ]
  },
  {
   "cell_type": "code",
   "execution_count": 55,
   "metadata": {},
   "outputs": [],
   "source": [
    "mergeSort(sample)"
   ]
  },
  {
   "cell_type": "code",
   "execution_count": 56,
   "metadata": {},
   "outputs": [
    {
     "data": {
      "text/plain": [
       "[-5, 1, 3, 3, 4, 6, 7, 9, 100]"
      ]
     },
     "execution_count": 56,
     "metadata": {},
     "output_type": "execute_result"
    }
   ],
   "source": [
    "sample"
   ]
  },
  {
   "attachments": {},
   "cell_type": "markdown",
   "metadata": {},
   "source": [
    "# Leetcode - two sum"
   ]
  },
  {
   "cell_type": "code",
   "execution_count": 88,
   "metadata": {},
   "outputs": [],
   "source": [
    "def find_twosum(L: list, target: int) -> list[int, int]:\n",
    "    for i in range(len(L)):\n",
    "        \n",
    "        for j in range(i+1, len(L)):\n",
    "        \n",
    "            if L[i] + L[j] == target:\n",
    "                return [i, j]\n",
    "    \n",
    "    return \"Not exist\"\n",
    "\n",
    "\n",
    "def find_twosum_2(L: list, target: int) -> list[int, int]:\n",
    "    for i in range(len(L)):\n",
    "\n",
    "        if target - L[i] in L[i+1:]:\n",
    "            ele1 = i\n",
    "            break\n",
    "        \n",
    "    for i in range(ele1+1, len(L)):\n",
    "\n",
    "        if L[i] == target - L[ele1]:\n",
    "            return [ele1, i]\n",
    "    \n",
    "    return \"Not exist\"\n",
    "\n",
    "def find_twosum_3(L: list, target: int) -> list[int, int]:\n",
    "    myDict= {}\n",
    "    for i in range(len(L)):\n",
    "        myDict[L[i]] = i\n",
    "\n",
    "    for i in range(len(L)):\n",
    "        if target - L[i] in myDict:\n",
    "            return[i, myDict[target - L[i]]]\n"
   ]
  },
  {
   "cell_type": "code",
   "execution_count": 101,
   "metadata": {},
   "outputs": [],
   "source": [
    "import random\n",
    "test_case = list(range(200000))\n",
    "random.shuffle(test_case)"
   ]
  },
  {
   "cell_type": "code",
   "execution_count": 102,
   "metadata": {},
   "outputs": [
    {
     "name": "stdout",
     "output_type": "stream",
     "text": [
      "[134790, 159471]\n",
      "598.5917075419857\n"
     ]
    }
   ],
   "source": [
    "import time\n",
    "t_start = time.perf_counter()\n",
    "print(find_twosum(test_case, 1))\n",
    "t_end = time.perf_counter()\n",
    "print(t_end - t_start)"
   ]
  },
  {
   "cell_type": "code",
   "execution_count": 104,
   "metadata": {},
   "outputs": [
    {
     "ename": "KeyboardInterrupt",
     "evalue": "",
     "output_type": "error",
     "traceback": [
      "\u001b[0;31m---------------------------------------------------------------------------\u001b[0m",
      "\u001b[0;31mKeyboardInterrupt\u001b[0m                         Traceback (most recent call last)",
      "Cell \u001b[0;32mIn[104], line 2\u001b[0m\n\u001b[1;32m      1\u001b[0m t_start \u001b[39m=\u001b[39m time\u001b[39m.\u001b[39mperf_counter()\n\u001b[0;32m----> 2\u001b[0m \u001b[39mprint\u001b[39m(find_twosum_2(test_case, \u001b[39m1\u001b[39;49m))\n\u001b[1;32m      3\u001b[0m t_end \u001b[39m=\u001b[39m time\u001b[39m.\u001b[39mperf_counter()\n\u001b[1;32m      4\u001b[0m \u001b[39mprint\u001b[39m(t_end \u001b[39m-\u001b[39m t_start)\n",
      "Cell \u001b[0;32mIn[88], line 15\u001b[0m, in \u001b[0;36mfind_twosum_2\u001b[0;34m(L, target)\u001b[0m\n\u001b[1;32m     12\u001b[0m \u001b[39mdef\u001b[39;00m \u001b[39mfind_twosum_2\u001b[39m(L: \u001b[39mlist\u001b[39m, target: \u001b[39mint\u001b[39m) \u001b[39m-\u001b[39m\u001b[39m>\u001b[39m \u001b[39mlist\u001b[39m[\u001b[39mint\u001b[39m, \u001b[39mint\u001b[39m]:\n\u001b[1;32m     13\u001b[0m     \u001b[39mfor\u001b[39;00m i \u001b[39min\u001b[39;00m \u001b[39mrange\u001b[39m(\u001b[39mlen\u001b[39m(L)):\n\u001b[0;32m---> 15\u001b[0m         \u001b[39mif\u001b[39;00m target \u001b[39m-\u001b[39m L[i] \u001b[39min\u001b[39;00m L[i\u001b[39m+\u001b[39m\u001b[39m1\u001b[39m:]:\n\u001b[1;32m     16\u001b[0m             ele1 \u001b[39m=\u001b[39m i\n\u001b[1;32m     17\u001b[0m             \u001b[39mbreak\u001b[39;00m\n",
      "\u001b[0;31mKeyboardInterrupt\u001b[0m: "
     ]
    }
   ],
   "source": [
    "t_start = time.perf_counter()\n",
    "print(find_twosum_2(test_case, 1))\n",
    "t_end = time.perf_counter()\n",
    "print(t_end - t_start)"
   ]
  },
  {
   "cell_type": "code",
   "execution_count": 103,
   "metadata": {},
   "outputs": [
    {
     "name": "stdout",
     "output_type": "stream",
     "text": [
      "[134790, 159471]\n",
      "0.023061290994519368\n"
     ]
    }
   ],
   "source": [
    "t_start = time.perf_counter()\n",
    "print(find_twosum_3(test_case, 1))\n",
    "t_end = time.perf_counter()\n",
    "print(t_end - t_start)"
   ]
  },
  {
   "cell_type": "code",
   "execution_count": 105,
   "metadata": {},
   "outputs": [
    {
     "data": {
      "text/plain": [
       "720"
      ]
     },
     "execution_count": 105,
     "metadata": {},
     "output_type": "execute_result"
    }
   ],
   "source": [
    "def func(x):\n",
    "    if(x==0 or x==1):\n",
    "        return 1\n",
    "\n",
    "    return func(x-1) * x\n",
    "func(6)"
   ]
  },
  {
   "cell_type": "code",
   "execution_count": 106,
   "metadata": {},
   "outputs": [
    {
     "name": "stdout",
     "output_type": "stream",
     "text": [
      "Hello Python\n",
      "Hello Python\n",
      "Hello Python\n",
      "Hello Python\n",
      "Hello Python\n"
     ]
    }
   ],
   "source": [
    "def f(n):\n",
    "    if n>1:\n",
    "        print(\"Hello Python\")\n",
    "        f(n/2)\n",
    "\n",
    "f(32)"
   ]
  },
  {
   "cell_type": "code",
   "execution_count": null,
   "metadata": {},
   "outputs": [],
   "source": []
  }
 ],
 "metadata": {
  "kernelspec": {
   "display_name": ".venv",
   "language": "python",
   "name": "python3"
  },
  "language_info": {
   "codemirror_mode": {
    "name": "ipython",
    "version": 3
   },
   "file_extension": ".py",
   "mimetype": "text/x-python",
   "name": "python",
   "nbconvert_exporter": "python",
   "pygments_lexer": "ipython3",
   "version": "3.11.1"
  },
  "orig_nbformat": 4,
  "vscode": {
   "interpreter": {
    "hash": "654460b4391aa26e0a6aaee080977b7ecb44bff51eda853c88eda78f5d90b161"
   }
  }
 },
 "nbformat": 4,
 "nbformat_minor": 2
}
