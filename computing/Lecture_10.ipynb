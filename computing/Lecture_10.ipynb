{
 "cells": [
  {
   "attachments": {},
   "cell_type": "markdown",
   "metadata": {},
   "source": [
    "# Selection Sort\n",
    "\n",
    "#### sorted 만드는 것은 쉬우나 unsorted에서 찾는 것이 오래걸림\n",
    "#### 점점 시간 짧아짐"
   ]
  },
  {
   "cell_type": "code",
   "execution_count": 46,
   "metadata": {},
   "outputs": [],
   "source": [
    "def SS(L: list) -> list:\n",
    "    \n",
    "    def _find_min(L: list, start: int) -> any:\n",
    "        cur_min = start\n",
    "\n",
    "        for i in range(start, len(L)):\n",
    "            if L[cur_min] > L[i]:\n",
    "                cur_min = i\n",
    "\n",
    "        return cur_min\n",
    "\n",
    "    def _swap_min(L: list, start: int) -> list:\n",
    "        min_index = _find_min(L, start)\n",
    "\n",
    "        L[start], L[min_index] = L[min_index], L[start]\n",
    "\n",
    "        return L\n",
    "\n",
    "    l = len(L)\n",
    "\n",
    "    for i in range(l):\n",
    "\n",
    "        L = _swap_min(L, i)\n",
    "\n",
    "    return L\n"
   ]
  },
  {
   "cell_type": "code",
   "execution_count": 47,
   "metadata": {},
   "outputs": [],
   "source": [
    "def selection_sort(L: list) -> list:\n",
    "    for i in range(len(L)):\n",
    "\n",
    "        # Find smallest in L[i:]\n",
    "        cur_min = i\n",
    "        for j in range(i, len(L)):\n",
    "            if L[cur_min] > L[j]:\n",
    "                cur_min = j\n",
    "        \n",
    "        # Swap value\n",
    "        L[i], L[cur_min] = L[cur_min], L[i]\n",
    "\n",
    "    return L\n"
   ]
  },
  {
   "cell_type": "code",
   "execution_count": 48,
   "metadata": {},
   "outputs": [
    {
     "name": "stdout",
     "output_type": "stream",
     "text": [
      "[-7, -6, -2, 0, 3, 4, 4, 5, 7, 9, 50, 100]\n",
      "[-7, -6, -2, 0, 3, 4, 4, 5, 7, 9, 50, 100]\n"
     ]
    }
   ],
   "source": [
    "sample = [-7, -6, 0, 100, -2, 7, 4, 9, 5, 50, 4, 3]\n",
    "print(SS(sample))\n",
    "print(selection_sort(sample))"
   ]
  },
  {
   "attachments": {},
   "cell_type": "markdown",
   "metadata": {},
   "source": [
    "# Insertion Sort\n",
    "\n",
    "#### unsorted에서 선택은 쉽지만 sorted 만드는 것이 오래걸림\n",
    "#### 시간이 점점 오래 걸림\n",
    "#### swap이 조금 시간이 걸려서 selection sort보다 살짝 느리나 상당부분 sorting 되어 있는 상황이라면 더 빠름 --> insert 위치 찾는 시간이 상당히 감소 (kN)\n",
    "#### --> 내가 가진 data에 대한 이해가 선행되어야 함"
   ]
  },
  {
   "cell_type": "code",
   "execution_count": 65,
   "metadata": {},
   "outputs": [],
   "source": [
    "def IS(L: list) -> list:\n",
    "    for i in range(1, len(L)):\n",
    "        \n",
    "        # find target\n",
    "        target = L[i]\n",
    "\n",
    "        # insert\n",
    "        for j in range(0, i):\n",
    "            if L[i-j] < L[i-j-1]:\n",
    "                L[i-j-1], L[i-j] = L[i-j], L[i-j-1]\n",
    "            else:\n",
    "                break\n",
    "        \n",
    "    return L"
   ]
  },
  {
   "cell_type": "code",
   "execution_count": 66,
   "metadata": {},
   "outputs": [
    {
     "name": "stdout",
     "output_type": "stream",
     "text": [
      "[-7, -6, -2, 0, 3, 4, 4, 5, 7, 9, 50, 100]\n"
     ]
    }
   ],
   "source": [
    "sample_IS = [-2, 5, 0, 100, -6, 7, 4, 9, -7, 50, 4, 3]\n",
    "print(IS(sample_IS))"
   ]
  },
  {
   "attachments": {},
   "cell_type": "markdown",
   "metadata": {},
   "source": [
    "# Big O notation\n",
    "* execution cost\n",
    "1. Time complexity\n",
    "2. Memory complexity\n",
    "\n",
    "* programming cost (현업에서 중요)\n",
    "1. Development time : 남보다 늦게 개발하게 되면...?\n",
    "2. Readability, modifiability and maintainability"
   ]
  },
  {
   "cell_type": "code",
   "execution_count": null,
   "metadata": {},
   "outputs": [],
   "source": []
  }
 ],
 "metadata": {
  "kernelspec": {
   "display_name": ".venv",
   "language": "python",
   "name": "python3"
  },
  "language_info": {
   "codemirror_mode": {
    "name": "ipython",
    "version": 3
   },
   "file_extension": ".py",
   "mimetype": "text/x-python",
   "name": "python",
   "nbconvert_exporter": "python",
   "pygments_lexer": "ipython3",
   "version": "3.11.1"
  },
  "orig_nbformat": 4,
  "vscode": {
   "interpreter": {
    "hash": "654460b4391aa26e0a6aaee080977b7ecb44bff51eda853c88eda78f5d90b161"
   }
  }
 },
 "nbformat": 4,
 "nbformat_minor": 2
}
