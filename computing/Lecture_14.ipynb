{
 "cells": [
  {
   "attachments": {},
   "cell_type": "markdown",
   "metadata": {},
   "source": [
    "# Linked List"
   ]
  },
  {
   "cell_type": "code",
   "execution_count": 8,
   "metadata": {},
   "outputs": [],
   "source": [
    "class LinkedNode:\n",
    "    def __init__(self, data) -> None:\n",
    "        self.data = data\n",
    "        self.next = None"
   ]
  },
  {
   "cell_type": "code",
   "execution_count": 9,
   "metadata": {},
   "outputs": [],
   "source": [
    "a = LinkedNode(5)\n",
    "b = LinkedNode(6)\n",
    "a.next = b"
   ]
  },
  {
   "cell_type": "code",
   "execution_count": 10,
   "metadata": {},
   "outputs": [
    {
     "data": {
      "text/plain": [
       "6"
      ]
     },
     "execution_count": 10,
     "metadata": {},
     "output_type": "execute_result"
    }
   ],
   "source": [
    "a.next.data"
   ]
  },
  {
   "cell_type": "code",
   "execution_count": 49,
   "metadata": {},
   "outputs": [],
   "source": [
    "class SLList:\n",
    "    def __init__(self) -> None:\n",
    "        self.first = None\n",
    "        self.size = 0\n",
    "    \n",
    "    class LinkedNode:\n",
    "        def __init__(self, data: int) -> None:\n",
    "            self.data = data\n",
    "            self.next = None\n",
    "        \n",
    "    def addFirst(self, data: int) -> None:\n",
    "        newNode = LinkedNode(data)\n",
    "        newNode.next = self.first\n",
    "        self.first = newNode\n",
    "        self.size += 1\n",
    "\n",
    "    def getFirst(self) -> int:\n",
    "        if self.first == None:\n",
    "            return None\n",
    "\n",
    "        return self.first.data\n",
    "\n",
    "\n",
    "    # # 하나하나 탐색 : O(n)\n",
    "    # def getSize_1(self) -> int:\n",
    "    #     size = 0\n",
    "    #     cur_node = self.first\n",
    "\n",
    "    #     while cur_node != None:\n",
    "    #         size += 1\n",
    "    #         cur_node = cur_node.next\n",
    "\n",
    "    #     return size\n",
    "\n",
    "    # 따로 변수 저장\n",
    "    def getSize(self) -> int:\n",
    "        return self.size\n",
    "\n",
    "\n",
    "    def append(self, data) -> None:\n",
    "        newNode = LinkedNode(data)\n",
    "\n",
    "        cur_node = self.first\n",
    "\n",
    "        # Special case 따로 분류 : 오류 발생 쉬움. Sentinel 넣어서 해결\n",
    "        if cur_node == None:\n",
    "            self.addFirst(data)\n",
    "            return\n",
    "\n",
    "        while cur_node.next != None:\n",
    "            cur_node = cur_node.next\n",
    "        \n",
    "        cur_node.next = newNode\n",
    "\n",
    "        self.size += 1\n"
   ]
  },
  {
   "cell_type": "code",
   "execution_count": 50,
   "metadata": {},
   "outputs": [
    {
     "name": "stdout",
     "output_type": "stream",
     "text": [
      "5\n",
      "10\n"
     ]
    }
   ],
   "source": [
    "L = SLList()\n",
    "L.addFirst(5)\n",
    "print(L.getFirst())\n",
    "L.addFirst(10)\n",
    "print(L.getFirst())\n",
    "L.append(15)"
   ]
  },
  {
   "cell_type": "code",
   "execution_count": 51,
   "metadata": {},
   "outputs": [
    {
     "name": "stdout",
     "output_type": "stream",
     "text": [
      "3\n"
     ]
    }
   ],
   "source": [
    "print(L.getSize())\n"
   ]
  },
  {
   "cell_type": "code",
   "execution_count": null,
   "metadata": {},
   "outputs": [],
   "source": []
  }
 ],
 "metadata": {
  "kernelspec": {
   "display_name": ".venv",
   "language": "python",
   "name": "python3"
  },
  "language_info": {
   "codemirror_mode": {
    "name": "ipython",
    "version": 3
   },
   "file_extension": ".py",
   "mimetype": "text/x-python",
   "name": "python",
   "nbconvert_exporter": "python",
   "pygments_lexer": "ipython3",
   "version": "3.11.1"
  },
  "orig_nbformat": 4,
  "vscode": {
   "interpreter": {
    "hash": "654460b4391aa26e0a6aaee080977b7ecb44bff51eda853c88eda78f5d90b161"
   }
  }
 },
 "nbformat": 4,
 "nbformat_minor": 2
}
