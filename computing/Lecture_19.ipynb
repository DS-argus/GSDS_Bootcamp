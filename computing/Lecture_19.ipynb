{
 "cells": [
  {
   "attachments": {},
   "cell_type": "markdown",
   "metadata": {},
   "source": [
    "# Hashing\n",
    "\n",
    "#### Data Indexed Array"
   ]
  },
  {
   "cell_type": "code",
   "execution_count": 7,
   "metadata": {},
   "outputs": [],
   "source": [
    "import import_ipynb\n",
    "from Lecture_14 import SLList"
   ]
  },
  {
   "cell_type": "code",
   "execution_count": 8,
   "metadata": {},
   "outputs": [],
   "source": [
    "class DIArray:\n",
    "    def __init__(self) -> None:\n",
    "        self.array = [None] * 2**32\n",
    "\n",
    "    def add(self, x) -> None:\n",
    "        i = hash_value(x)\n",
    "        if self.array(i) == None:\n",
    "            self.array[i] = SLList()\n",
    "        \n",
    "        self.array[i].addFirst(x)"
   ]
  },
  {
   "attachments": {},
   "cell_type": "markdown",
   "metadata": {},
   "source": [
    "# Problem - Majority Element\n",
    "- Implement a function that takes a list nums and returns its majority element\n",
    "- When nums has n elemetns, majority element is the element that appears more that [n/2] times\n",
    "- You may assume that the majority element always exists in the list\n",
    "- Achieve O(N) complexity"
   ]
  },
  {
   "cell_type": "code",
   "execution_count": 17,
   "metadata": {},
   "outputs": [],
   "source": [
    "def majorityElement(nums: list[int]) -> int:\n",
    "    num_dict = dict()\n",
    "\n",
    "    for i in nums:\n",
    "        \n",
    "        if i in num_dict.keys():\n",
    "            num_dict[i] += 1\n",
    "\n",
    "            if num_dict[i] >= len(nums) // 2:\n",
    "                return i\n",
    "\n",
    "        else:\n",
    "            num_dict[i] = 1"
   ]
  },
  {
   "cell_type": "code",
   "execution_count": 18,
   "metadata": {},
   "outputs": [],
   "source": [
    "def hash_function(x: int) -> int:\n",
    "    return x % 10\n",
    "\n",
    "input = [4322, 1334, 1471, 9679, 1989, 6171, 6173, 4199]"
   ]
  },
  {
   "cell_type": "code",
   "execution_count": 20,
   "metadata": {},
   "outputs": [
    {
     "name": "stdout",
     "output_type": "stream",
     "text": [
      "4322 2\n",
      "1334 4\n",
      "1471 1\n",
      "9679 9\n",
      "1989 9\n",
      "6171 1\n",
      "6173 3\n",
      "4199 9\n"
     ]
    }
   ],
   "source": [
    "for i in input:\n",
    "    print(i, hash_function(i))"
   ]
  },
  {
   "cell_type": "code",
   "execution_count": null,
   "metadata": {},
   "outputs": [],
   "source": []
  }
 ],
 "metadata": {
  "kernelspec": {
   "display_name": ".venv",
   "language": "python",
   "name": "python3"
  },
  "language_info": {
   "codemirror_mode": {
    "name": "ipython",
    "version": 3
   },
   "file_extension": ".py",
   "mimetype": "text/x-python",
   "name": "python",
   "nbconvert_exporter": "python",
   "pygments_lexer": "ipython3",
   "version": "3.11.1"
  },
  "orig_nbformat": 4,
  "vscode": {
   "interpreter": {
    "hash": "654460b4391aa26e0a6aaee080977b7ecb44bff51eda853c88eda78f5d90b161"
   }
  }
 },
 "nbformat": 4,
 "nbformat_minor": 2
}
