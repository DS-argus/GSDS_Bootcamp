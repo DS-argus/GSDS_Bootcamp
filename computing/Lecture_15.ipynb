{
 "cells": [
  {
   "attachments": {},
   "cell_type": "markdown",
   "metadata": {},
   "source": [
    "# Binary Search Tree"
   ]
  },
  {
   "cell_type": "code",
   "execution_count": 1,
   "metadata": {},
   "outputs": [],
   "source": [
    "class TreeNode:\n",
    "    def __init__(self, x: int) -> None:\n",
    "        self.val = x\n",
    "        self.left = None\n",
    "        self.right = None"
   ]
  },
  {
   "cell_type": "code",
   "execution_count": 69,
   "metadata": {},
   "outputs": [],
   "source": [
    "class myBST():\n",
    "    def __init__(self) -> None:\n",
    "        self.root = None\n",
    "    \n",
    "    def search(self, x: int) -> TreeNode:\n",
    "        curNode = self.root\n",
    "\n",
    "        while curNode != None:\n",
    "            if x > curNode.val:\n",
    "                curNode = curNode.right\n",
    "            elif x < curNode.val:\n",
    "                curNode = curNode.left\n",
    "            elif x == curNode.val:\n",
    "                return curNode\n",
    "        \n",
    "        return None\n",
    "\n",
    "    def insert(self, x: int) -> None:\n",
    "        newNode = TreeNode(x)\n",
    "\n",
    "        if self.root == None:\n",
    "            self.root = newNode\n",
    "            return\n",
    "        \n",
    "        curNode = self.root\n",
    "        while curNode != None:\n",
    "            if x > curNode.val:\n",
    "                if curNode.right == None:\n",
    "                    curNode.right = newNode\n",
    "                    return\n",
    "                else:\n",
    "                    curNode = curNode.right\n",
    "\n",
    "            elif x < curNode.val:\n",
    "                if curNode.left == None:\n",
    "                    curNode.left = newNode\n",
    "                    return\n",
    "                else:\n",
    "                    curNode = curNode.left\n",
    "\n",
    "            elif x == curNode.val:\n",
    "                raise Exception(\"중복\")\n",
    "         \n",
    "        return\n",
    "\n",
    "\n",
    "    def delete(self, x: int):\n",
    "        pass"
   ]
  },
  {
   "cell_type": "code",
   "execution_count": 86,
   "metadata": {},
   "outputs": [],
   "source": [
    "class BST():\n",
    "    def __init__(self) -> None:\n",
    "        self.root = None\n",
    "    \n",
    "    def __searchHelp(self, curNode: TreeNode, x: int) -> TreeNode:\n",
    "        if not curNode:     # curNode == None 이면,\n",
    "            return None\n",
    "\n",
    "        if x == curNode.val:\n",
    "            return curNode\n",
    "        \n",
    "        elif x < curNode.val:\n",
    "            return self.__searchHelp(curNode.left, x)\n",
    "        \n",
    "        else:\n",
    "            return self.__searchHelp(curNode.right, x)\n",
    "\n",
    "    def search(self, x: int) -> TreeNode:\n",
    "        return self.__searchHelp(self.root, x)\n",
    "\n",
    "    def __insertHelp(self, curNode: TreeNode, x: int) -> TreeNode:\n",
    "        if not curNode:\n",
    "            return TreeNode(x)\n",
    "        \n",
    "        if x < curNode.val:\n",
    "            curNode.left = self.__insertHelp(curNode.left, x)\n",
    "        \n",
    "        elif x > curNode.val:\n",
    "            curNode.right = self.__insertHelp(curNode.right, x)\n",
    "\n",
    "        return curNode\n",
    "\n",
    "\n",
    "\n",
    "    def insert(self, x: int) -> None:\n",
    "        self.root = self.__insertHelp(self.root, x)\n",
    "\n",
    "\n",
    "    def __findMax(self, curNode: TreeNode) -> int:\n",
    "        if not curNode.right:\n",
    "            return curNode.val\n",
    "\n",
    "        else:\n",
    "            return self.__findMax(curNode.right) \n",
    "            \n",
    "\n",
    "    def __deleteHelp(self, curNode: TreeNode, x: int) -> TreeNode:\n",
    "\n",
    "        if not curNode:\n",
    "            return None\n",
    "\n",
    "        if x < curNode.val:\n",
    "            curNode.left = self.__deleteHelp(curNode.left, x)\n",
    "\n",
    "        elif x > curNode.val:\n",
    "            curNode.right = self.__deleteHelp(curNode.right, x)\n",
    "        \n",
    "        else:\n",
    "            if curNode.left == None and curNode.right == None:\n",
    "                return None\n",
    "            \n",
    "            elif curNode.left == None and curNode.right != None:\n",
    "                return curNode.right\n",
    "\n",
    "            elif curNode.left != None and curNode.right == None:\n",
    "                return curNode.left\n",
    "\n",
    "            else:   # 2 child\n",
    "                # find left largest\n",
    "                leftLargest = self.__findMax(curNode.left)\n",
    "                curNode.left = self.__deleteHelp(curNode.left, leftLargest)\n",
    "                curNode.val = leftLargest\n",
    "\n",
    "        return curNode\n",
    "\n",
    "    def delete(self, x: int) -> None:\n",
    "        self.root = self.__deleteHelp(self.root ,x)\n"
   ]
  },
  {
   "cell_type": "code",
   "execution_count": 89,
   "metadata": {},
   "outputs": [],
   "source": [
    "myTree = BST()\n",
    "myTree.insert(4)\n",
    "myTree.insert(2)\n",
    "myTree.insert(6)\n",
    "myTree.insert(1)\n",
    "myTree.insert(3)\n",
    "myTree.insert(5)\n",
    "myTree.insert(7)"
   ]
  },
  {
   "cell_type": "code",
   "execution_count": 91,
   "metadata": {},
   "outputs": [],
   "source": [
    "myTree.delete(4)"
   ]
  },
  {
   "cell_type": "code",
   "execution_count": 92,
   "metadata": {},
   "outputs": [
    {
     "data": {
      "text/plain": [
       "3"
      ]
     },
     "execution_count": 92,
     "metadata": {},
     "output_type": "execute_result"
    }
   ],
   "source": [
    "myTree.root.val"
   ]
  },
  {
   "cell_type": "code",
   "execution_count": 93,
   "metadata": {},
   "outputs": [
    {
     "data": {
      "text/plain": [
       "2"
      ]
     },
     "execution_count": 93,
     "metadata": {},
     "output_type": "execute_result"
    }
   ],
   "source": [
    "myTree.root.left.val"
   ]
  },
  {
   "cell_type": "code",
   "execution_count": null,
   "metadata": {},
   "outputs": [],
   "source": []
  }
 ],
 "metadata": {
  "kernelspec": {
   "display_name": ".venv",
   "language": "python",
   "name": "python3"
  },
  "language_info": {
   "codemirror_mode": {
    "name": "ipython",
    "version": 3
   },
   "file_extension": ".py",
   "mimetype": "text/x-python",
   "name": "python",
   "nbconvert_exporter": "python",
   "pygments_lexer": "ipython3",
   "version": "3.11.1"
  },
  "orig_nbformat": 4,
  "vscode": {
   "interpreter": {
    "hash": "654460b4391aa26e0a6aaee080977b7ecb44bff51eda853c88eda78f5d90b161"
   }
  }
 },
 "nbformat": 4,
 "nbformat_minor": 2
}
