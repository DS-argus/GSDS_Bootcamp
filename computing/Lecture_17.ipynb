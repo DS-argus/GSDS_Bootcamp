{
 "cells": [
  {
   "attachments": {},
   "cell_type": "markdown",
   "metadata": {},
   "source": [
    "# Trees and Traverse"
   ]
  },
  {
   "attachments": {},
   "cell_type": "markdown",
   "metadata": {},
   "source": [
    "## K-ary Trees : child가 K개까지 가능한 tree\n",
    "* child가 없어도 공간은 차지"
   ]
  },
  {
   "cell_type": "code",
   "execution_count": 1,
   "metadata": {},
   "outputs": [],
   "source": [
    "class TreeNode:\n",
    "    def __init__(self, x: int, k: int) -> None:\n",
    "        self.val = x\n",
    "        self.arity = k\n",
    "        self.child = [None] * k"
   ]
  },
  {
   "attachments": {},
   "cell_type": "markdown",
   "metadata": {},
   "source": [
    "### Level-order(Breadth-First) Traversal\n",
    "* 왼쪽에서 오른쪽으로, 위에서 아래로 이동하며 search\n",
    "\n",
    "### Depth-First Traversal\n",
    "* 왼쪽부터 순차적으로 위에서 아래로 끝까지 이동하며 search\n",
    "1. preorder : child 방문전에 자기 print\n",
    "2. inorder : child방문 중간에 자기 print, 엄밀하게는 binary에서만 clear하게 정의됨, binary에서 inorder로 프린트하면 sorted list로 변환가능(Flattening a BST)\n",
    "3. postorder : child 모두 방문하고 자기 print. file size calculation 에 사용"
   ]
  },
  {
   "cell_type": "code",
   "execution_count": 2,
   "metadata": {},
   "outputs": [],
   "source": [
    "from collections import deque"
   ]
  },
  {
   "cell_type": "code",
   "execution_count": null,
   "metadata": {},
   "outputs": [],
   "source": [
    "class Tree:\n",
    "    def __init__(self) -> None:\n",
    "        self.root = None\n",
    "\n",
    "    def visit(self, node: TreeNode) -> None:\n",
    "        print(node.val)\n",
    "    \n",
    "    def BFT_with_list(self) -> None:\n",
    "        if not self.root:\n",
    "            return\n",
    "\n",
    "        q = [self.root]\n",
    "\n",
    "        while q:\n",
    "            curNode = q.pop(0)\n",
    "            self.visit(curNode)\n",
    "\n",
    "            for childNode in curNode.child:\n",
    "                if childNode:\n",
    "                    q.append(childNode)\n",
    "\n",
    "\n",
    "    # deque : faster pushing and popping than list by DLL mechanism\n",
    "    def BFT_with_deque(self) -> None:\n",
    "        if not self.root:\n",
    "            return\n",
    "\n",
    "        q = deque([self.root])\n",
    "\n",
    "        while q:\n",
    "            curNode = q.popleft()\n",
    "            self.visit(curNode)\n",
    "\n",
    "            for childNode in curNode.child:\n",
    "                if childNode:\n",
    "                    q.append(childNode)\n",
    "\n",
    "    def __DFT_helper(self, curNode: TreeNode) -> None:\n",
    "        if not curNode:\n",
    "            return \n",
    "        \n",
    "        # preorder\n",
    "        self.visit(curNode)\n",
    "\n",
    "        for i, childNode in enumerate(curNode.child):\n",
    "            # inorder\n",
    "            # if i == 1:\n",
    "            #     self.visit(curNode)\n",
    "\n",
    "            self.__DFT_helper(childNode)\n",
    "        \n",
    "        # postorder\n",
    "        # self.visit(curNode) \n",
    "\n",
    "\n",
    "    def DFT(self) -> None:\n",
    "        self.__DFT_helper(self.root)\n",
    "\n",
    "\n"
   ]
  }
 ],
 "metadata": {
  "kernelspec": {
   "display_name": ".venv",
   "language": "python",
   "name": "python3"
  },
  "language_info": {
   "codemirror_mode": {
    "name": "ipython",
    "version": 3
   },
   "file_extension": ".py",
   "mimetype": "text/x-python",
   "name": "python",
   "nbconvert_exporter": "python",
   "pygments_lexer": "ipython3",
   "version": "3.11.1"
  },
  "orig_nbformat": 4,
  "vscode": {
   "interpreter": {
    "hash": "654460b4391aa26e0a6aaee080977b7ecb44bff51eda853c88eda78f5d90b161"
   }
  }
 },
 "nbformat": 4,
 "nbformat_minor": 2
}
