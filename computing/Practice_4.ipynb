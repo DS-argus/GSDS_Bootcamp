{
 "cells": [
  {
   "cell_type": "code",
   "execution_count": 1,
   "metadata": {},
   "outputs": [],
   "source": [
    "class Member:\n",
    "    def __init__(self, name: str, address: str, email: str, DoB: str, affiliation: str) -> None:\n",
    "        self.name = name\n",
    "        self.address = address\n",
    "        self.email = email\n",
    "        self.DoB = DoB\n",
    "        self.affiliation = affiliation\n",
    "        self.infoList = [self.name, self.address, self.email, self.DoB, self.affiliation]\n",
    "\n",
    "    def printInfo(self):\n",
    "        print(self.infoList)\n",
    "\n",
    "    \n",
    "class Students(Member):\n",
    "    def __init__(self, name: str, address: str, email: str, DoB: str, affiliation: str, student_num: str) -> None:\n",
    "        super().__init__(name, address, email, DoB, affiliation)\n",
    "        self.students_num = student_num\n",
    "        self.advisor = \"\"\n",
    "        self.courses_taken = []\n",
    "        self.courses_taking = []\n",
    "        self.GPA = 0\n",
    "        self.infoList = self.infoList + [self.students_num, self.advisor, self.courses_taken, self.courses_taking, self.GPA]\n",
    "\n",
    "class Faculty(Member):\n",
    "    def __init__(self, name: str, address: str, email: str, DoB: str, affiliation: str, faculty_num: str) -> None:\n",
    "        super().__init__(name, address, email, DoB, affiliation)\n",
    "        self.faculty_num = faculty_num\n",
    "        self.advisees = []\n",
    "        self.courses_teaching = []\n",
    "        self.infoList = self.infoList + [self.faculty_num, self.advisees, self.courses_teaching]\n",
    "        "
   ]
  },
  {
   "cell_type": "code",
   "execution_count": 70,
   "metadata": {},
   "outputs": [],
   "source": [
    "from dataclasses import dataclass, field\n",
    "from abc import ABCMeta, abstractmethod\n",
    "\n",
    "@dataclass\n",
    "class Member_DC(metaclass=ABCMeta):\n",
    "    name: str\n",
    "    address: str\n",
    "    email: str\n",
    "    DoB: str\n",
    "    affiliation: str\n",
    "\n",
    "    @abstractmethod\n",
    "    def introduce(self):\n",
    "        pass\n",
    "\n",
    "    @abstractmethod\n",
    "    def chg_affiliation(self, new_affiliation: str):\n",
    "        pass\n",
    "\n",
    "@dataclass\n",
    "class Students_DC(Member_DC):\n",
    "    student_num: str\n",
    "    advisor: str = field(default=\"\", init=False)\n",
    "    courses_taken: list = field(default_factory=list, init=False)\n",
    "    courses_taking: list = field(default_factory=list, init=False)\n",
    "    GPA: int = field(default=0, init=False, repr=False)\n",
    "\n",
    "    def introduce(self):\n",
    "        print(f\"I'm {self.name}, {self.affiliation} student\")\n",
    "\n",
    "    def chg_affiliation(self, new_affiliation):\n",
    "        print(f\"Student {self.name} has moved to {new_affiliation} from {self.affiliation}\")\n",
    "        self.affiliation = new_affiliation\n",
    "\n",
    "@dataclass\n",
    "class Faculty_DC(Member_DC):\n",
    "    faculty_num: str\n",
    "    advisees: list = field(default_factory=list, init=False)\n",
    "    courses_teaching: list = field(default_factory=list, init=False)\n",
    "\n",
    "    def introduce(self):\n",
    "        print(f\"I'm {self.name}, {self.affiliation} faculty\")\n",
    "\n",
    "    def chg_affiliation(self, new_affiliation):\n",
    "        print(f\"Faculty {self.name} has moved to {new_affiliation} from {self.affiliation}\")\n",
    "        self.affiliation = new_affiliation\n"
   ]
  },
  {
   "cell_type": "code",
   "execution_count": 71,
   "metadata": {},
   "outputs": [
    {
     "name": "stdout",
     "output_type": "stream",
     "text": [
      "True\n",
      "Students_DC(name='Soungmin', address='Seoul', email='tjdals4047@gmail.com', DoB='19951124', affiliation='GSDS', student_num='2023-14120', advisor='', courses_taken=[], courses_taking=[])\n",
      "I'm Soungmin, GSDS student\n",
      "Student Soungmin has moved to Mechanical Eng from GSDS\n",
      "I'm Soungmin, Mechanical Eng student\n"
     ]
    },
    {
     "data": {
      "text/plain": [
       "{'name': 'Soungmin',\n",
       " 'address': 'Seoul',\n",
       " 'email': 'tjdals4047@gmail.com',\n",
       " 'DoB': '19951124',\n",
       " 'affiliation': 'Mechanical Eng',\n",
       " 'student_num': '2023-14120',\n",
       " 'courses_taken': [],\n",
       " 'courses_taking': []}"
      ]
     },
     "execution_count": 71,
     "metadata": {},
     "output_type": "execute_result"
    }
   ],
   "source": [
    "student_1 = Students_DC(\"Soungmin\", \"Seoul\", \"tjdals4047@gmail.com\", \"19951124\", \"GSDS\", \"2023-14120\")\n",
    "print(isinstance(student_1, Students_DC))\n",
    "print(student_1.__repr__())\n",
    "student_1.introduce()\n",
    "\n",
    "student_1.chg_affiliation(\"Mechanical Eng\")\n",
    "student_1.introduce()\n",
    "student_1.__dict__"
   ]
  },
  {
   "attachments": {},
   "cell_type": "markdown",
   "metadata": {},
   "source": [
    "# Cartesian Plane Example"
   ]
  },
  {
   "cell_type": "code",
   "execution_count": 42,
   "metadata": {},
   "outputs": [],
   "source": [
    "class Point:\n",
    "    def __init__(self, x: float, y: float) -> None:\n",
    "        self.x = x\n",
    "        self.y = y\n",
    "\n",
    "\n",
    "class Line:\n",
    "    def __init__(self, point_a: Point, point_b: Point) -> None:\n",
    "        self.point_a = point_a\n",
    "        self.point_b = point_b\n",
    "\n",
    "    def slope(self) -> float:\n",
    "        delta_x = self.point_b.x - self.point_a.x\n",
    "        delta_y = self.point_b.y - self.point_a.y\n",
    "        return delta_y/delta_x\n",
    "\n",
    "    def length(self) -> float:\n",
    "        delta_x = self.point_b.x - self.point_a.x\n",
    "        delta_y = self.point_b.y - self.point_a.y\n",
    "        return ((delta_x)**2 + (delta_y)**2)**0.5\n",
    "\n"
   ]
  },
  {
   "cell_type": "code",
   "execution_count": 43,
   "metadata": {},
   "outputs": [
    {
     "name": "stdout",
     "output_type": "stream",
     "text": [
      "0.5\n",
      "2.23606797749979\n"
     ]
    }
   ],
   "source": [
    "point_a = Point(1, 1)\n",
    "point_b = Point(3, 2)\n",
    "line = Line(point_a, point_b)\n",
    "\n",
    "print(line.slope())\n",
    "print(line.length())"
   ]
  },
  {
   "cell_type": "code",
   "execution_count": null,
   "metadata": {},
   "outputs": [],
   "source": []
  }
 ],
 "metadata": {
  "kernelspec": {
   "display_name": ".venv",
   "language": "python",
   "name": "python3"
  },
  "language_info": {
   "codemirror_mode": {
    "name": "ipython",
    "version": 3
   },
   "file_extension": ".py",
   "mimetype": "text/x-python",
   "name": "python",
   "nbconvert_exporter": "python",
   "pygments_lexer": "ipython3",
   "version": "3.11.1 (main, Jan 16 2023, 22:27:47) [Clang 14.0.0 (clang-1400.0.29.202)]"
  },
  "orig_nbformat": 4,
  "vscode": {
   "interpreter": {
    "hash": "654460b4391aa26e0a6aaee080977b7ecb44bff51eda853c88eda78f5d90b161"
   }
  }
 },
 "nbformat": 4,
 "nbformat_minor": 2
}
