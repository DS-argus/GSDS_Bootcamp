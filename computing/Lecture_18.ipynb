{
 "cells": [
  {
   "attachments": {},
   "cell_type": "markdown",
   "metadata": {},
   "source": [
    "# Graph\n",
    "- 모두 connected될 필요 없음\n",
    "- Nodes(vertex)와 edges(tuple로 표시)로 구성되기만 하면 됨\n",
    "- Tree 포함\n",
    "- edge로 바로 연결되어 있으면 adjacent, path가 존재하면 connected\n",
    "- path에서 vertex중복 없으면 simple path, simple path가 아니면 cycle이 있음\n",
    "- undirected edge : 양방향 이동가능, directed edge : 일방향 이동만 가능\n",
    "\n",
    "## Simple graph\n",
    "- Loop, parallel edge가 없음"
   ]
  },
  {
   "cell_type": "code",
   "execution_count": 1,
   "metadata": {},
   "outputs": [],
   "source": [
    "class undi_graph():\n",
    "    def __init__(self, V: list, E: list) -> None:\n",
    "        self.V = V[:]\n",
    "        self.neighbor = {}\n",
    "        for v in V:\n",
    "            self.neighbor[v] = []\n",
    "        for (v, w) in E:\n",
    "            self.neighbor[v].append(w)\n",
    "            self.neighbor[w].append(v)"
   ]
  },
  {
   "attachments": {},
   "cell_type": "markdown",
   "metadata": {},
   "source": [
    "## Graph Traversals - DFT\n",
    "- 모든 vertex를 출력하는 것이 목표\n",
    "- 어떤 2개의 vertex끼리 연결되었는지 확인 가능\n",
    "- connected graph 여부 확인 가능\n",
    "- disjoint islands가 몇개 있는지 확인 가능\n",
    "- cycle 존재 여부 확인 가능"
   ]
  },
  {
   "cell_type": "code",
   "execution_count": 63,
   "metadata": {},
   "outputs": [],
   "source": [
    "from collections import deque\n",
    "\n",
    "class undi_graph():\n",
    "    def __init__(self, V: list, E: list) -> None:\n",
    "        self.V = V[:]\n",
    "        self.neighbor = {}\n",
    "        for v in V:\n",
    "            self.neighbor[v] = []\n",
    "        for (v, w) in E:\n",
    "            self.neighbor[v].append(w)\n",
    "            self.neighbor[w].append(v)\n",
    "\n",
    "    def __DFTHelp(self, visited: list, v: int) -> None:\n",
    "        if v in visited:\n",
    "            return\n",
    "\n",
    "        visited.append(v)\n",
    "\n",
    "        # preorder\n",
    "        print(v)\n",
    "\n",
    "        for neighbor in self.neighbor[v]:\n",
    "            self.__DFTHelp(visited, neighbor)\n",
    "\n",
    "        # postorder\n",
    "        # print(v)        \n",
    "\n",
    "    def DFT(self) -> None:\n",
    "        # for cycle detection\n",
    "        visited = []\n",
    "        \n",
    "        # disconnected된 vertex도 방문하기 위해서\n",
    "        for v in self.V:\n",
    "            self.__DFTHelp(visited, v)\n",
    "\n",
    "    def BFT(self) -> None:\n",
    "        visited = []\n",
    "\n",
    "        for v in self.V:\n",
    "\n",
    "            q = deque([v])\n",
    "\n",
    "            while q:\n",
    "                curNode = q.popleft()\n",
    "\n",
    "                if curNode in visited:\n",
    "                    continue\n",
    "\n",
    "                visited.append(curNode)\n",
    "                print(curNode)\n",
    "\n",
    "                for neighbor in self.neighbor[curNode]:\n",
    "                    q.append(neighbor)"
   ]
  },
  {
   "cell_type": "code",
   "execution_count": 64,
   "metadata": {},
   "outputs": [
    {
     "name": "stdout",
     "output_type": "stream",
     "text": [
      "[0, 1, 2, 3, 4, 5, 6, 7, 8, 9]\n",
      "{0: [1], 1: [0, 4, 5], 2: [3], 3: [2], 4: [1, 6], 5: [1, 6, 7], 6: [4, 5, 9], 7: [5, 8], 8: [7], 9: [6]}\n"
     ]
    }
   ],
   "source": [
    "V = [0, 1, 2, 3, 4, 5, 6, 7, 8, 9]\n",
    "E = [(0, 1), (1, 4), (1, 5), (4, 6), (5, 6), (5, 7), (6, 9), (7, 8), (2, 3)]\n",
    "myGraph = undi_graph(V, E)\n",
    "print(myGraph.V)\n",
    "print(myGraph.neighbor)"
   ]
  },
  {
   "cell_type": "code",
   "execution_count": 65,
   "metadata": {},
   "outputs": [
    {
     "name": "stdout",
     "output_type": "stream",
     "text": [
      "0\n",
      "1\n",
      "4\n",
      "6\n",
      "5\n",
      "7\n",
      "8\n",
      "9\n",
      "2\n",
      "3\n"
     ]
    }
   ],
   "source": [
    "myGraph.DFT()"
   ]
  },
  {
   "cell_type": "code",
   "execution_count": 66,
   "metadata": {},
   "outputs": [
    {
     "name": "stdout",
     "output_type": "stream",
     "text": [
      "0\n",
      "1\n",
      "4\n",
      "5\n",
      "6\n",
      "7\n",
      "9\n",
      "8\n",
      "2\n",
      "3\n"
     ]
    }
   ],
   "source": [
    "myGraph.BFT()"
   ]
  },
  {
   "cell_type": "code",
   "execution_count": 76,
   "metadata": {},
   "outputs": [],
   "source": [
    "myV = [0, 1, 2, 3, 4]\n",
    "myE = [(0, 1), (0, 4), (1, 2), (2, 3), (2, 4), (3, 4)]"
   ]
  },
  {
   "cell_type": "code",
   "execution_count": 77,
   "metadata": {},
   "outputs": [
    {
     "data": {
      "text/plain": [
       "{0: [1, 4], 1: [0, 2], 2: [1, 3, 4], 3: [2, 4], 4: [0, 2, 3]}"
      ]
     },
     "execution_count": 77,
     "metadata": {},
     "output_type": "execute_result"
    }
   ],
   "source": [
    "myPractice = undi_graph(myV, myE)\n",
    "myPractice.neighbor"
   ]
  },
  {
   "cell_type": "code",
   "execution_count": 78,
   "metadata": {},
   "outputs": [
    {
     "name": "stdout",
     "output_type": "stream",
     "text": [
      "0\n",
      "1\n",
      "4\n",
      "2\n",
      "3\n"
     ]
    }
   ],
   "source": [
    "myPractice.BFT()"
   ]
  },
  {
   "cell_type": "code",
   "execution_count": 79,
   "metadata": {},
   "outputs": [
    {
     "name": "stdout",
     "output_type": "stream",
     "text": [
      "0\n",
      "1\n",
      "2\n",
      "3\n",
      "4\n"
     ]
    }
   ],
   "source": [
    "myPractice.DFT()"
   ]
  },
  {
   "cell_type": "code",
   "execution_count": null,
   "metadata": {},
   "outputs": [],
   "source": []
  }
 ],
 "metadata": {
  "kernelspec": {
   "display_name": ".venv",
   "language": "python",
   "name": "python3"
  },
  "language_info": {
   "codemirror_mode": {
    "name": "ipython",
    "version": 3
   },
   "file_extension": ".py",
   "mimetype": "text/x-python",
   "name": "python",
   "nbconvert_exporter": "python",
   "pygments_lexer": "ipython3",
   "version": "3.11.1"
  },
  "orig_nbformat": 4,
  "vscode": {
   "interpreter": {
    "hash": "654460b4391aa26e0a6aaee080977b7ecb44bff51eda853c88eda78f5d90b161"
   }
  }
 },
 "nbformat": 4,
 "nbformat_minor": 2
}
